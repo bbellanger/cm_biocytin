{
 "cells": [
  {
   "cell_type": "code",
   "execution_count": 1,
   "id": "d4c42646-1889-45bd-ac7f-729818de058c",
   "metadata": {},
   "outputs": [],
   "source": [
    "# Split the merged dataset into\n",
    "# DATA and labels"
   ]
  },
  {
   "cell_type": "code",
   "execution_count": 2,
   "id": "9fe01d3d-10a2-4de2-a72a-ea961b9c64e6",
   "metadata": {},
   "outputs": [
    {
     "name": "stderr",
     "output_type": "stream",
     "text": [
      "── \u001b[1mAttaching core tidyverse packages\u001b[22m ────────────── tidyverse 2.0.0 ──\n",
      "\u001b[32m✔\u001b[39m \u001b[34mdplyr    \u001b[39m 1.1.2     \u001b[32m✔\u001b[39m \u001b[34mreadr    \u001b[39m 2.1.4\n",
      "\u001b[32m✔\u001b[39m \u001b[34mforcats  \u001b[39m 1.0.0     \u001b[32m✔\u001b[39m \u001b[34mstringr  \u001b[39m 1.5.0\n",
      "\u001b[32m✔\u001b[39m \u001b[34mggplot2  \u001b[39m 3.4.2     \u001b[32m✔\u001b[39m \u001b[34mtibble   \u001b[39m 3.2.1\n",
      "\u001b[32m✔\u001b[39m \u001b[34mlubridate\u001b[39m 1.9.3     \u001b[32m✔\u001b[39m \u001b[34mtidyr    \u001b[39m 1.3.0\n",
      "\u001b[32m✔\u001b[39m \u001b[34mpurrr    \u001b[39m 1.0.1     \n",
      "── \u001b[1mConflicts\u001b[22m ──────────────────────────────── tidyverse_conflicts() ──\n",
      "\u001b[31m✖\u001b[39m \u001b[34mdplyr\u001b[39m::\u001b[32mfilter()\u001b[39m masks \u001b[34mstats\u001b[39m::filter()\n",
      "\u001b[31m✖\u001b[39m \u001b[34mdplyr\u001b[39m::\u001b[32mlag()\u001b[39m    masks \u001b[34mstats\u001b[39m::lag()\n",
      "\u001b[36mℹ\u001b[39m Use the conflicted package (\u001b[3m\u001b[34m<http://conflicted.r-lib.org/>\u001b[39m\u001b[23m) to force all conflicts to become errors\n"
     ]
    }
   ],
   "source": [
    "library(\"tidyverse\")"
   ]
  },
  {
   "cell_type": "code",
   "execution_count": 3,
   "id": "e785d483-941e-4c5e-b428-a2907a3d8a4f",
   "metadata": {},
   "outputs": [
    {
     "data": {
      "text/html": [
       "<table class=\"dataframe\">\n",
       "<caption>A data.frame: 8 × 21</caption>\n",
       "<thead>\n",
       "\t<tr><th scope=col>X</th><th scope=col>image</th><th scope=col>Sum_Length</th><th scope=col>Avg_Branch_pathlength</th><th scope=col>Avg_Width</th><th scope=col>Avg_Depth</th><th scope=col>Avg_Partition_asymmetry</th><th scope=col>Avg_Contraction</th><th scope=col>Avg_Fractal_Dim</th><th scope=col>Avg_Fragmentation</th><th scope=col>⋯</th><th scope=col>nb_roots</th><th scope=col>hgst_branch</th><th scope=col>nb_spines</th><th scope=col>density_spines</th><th scope=col>cell</th><th scope=col>duration_mean</th><th scope=col>slope_mean</th><th scope=col>spike_width</th><th scope=col>temperature</th><th scope=col>kv11</th></tr>\n",
       "\t<tr><th scope=col>&lt;int&gt;</th><th scope=col>&lt;chr&gt;</th><th scope=col>&lt;dbl&gt;</th><th scope=col>&lt;dbl&gt;</th><th scope=col>&lt;dbl&gt;</th><th scope=col>&lt;dbl&gt;</th><th scope=col>&lt;dbl&gt;</th><th scope=col>&lt;dbl&gt;</th><th scope=col>&lt;dbl&gt;</th><th scope=col>&lt;dbl&gt;</th><th scope=col>⋯</th><th scope=col>&lt;int&gt;</th><th scope=col>&lt;int&gt;</th><th scope=col>&lt;int&gt;</th><th scope=col>&lt;int&gt;</th><th scope=col>&lt;chr&gt;</th><th scope=col>&lt;dbl&gt;</th><th scope=col>&lt;dbl&gt;</th><th scope=col>&lt;dbl&gt;</th><th scope=col>&lt;dbl&gt;</th><th scope=col>&lt;chr&gt;</th></tr>\n",
       "</thead>\n",
       "<tbody>\n",
       "\t<tr><td>1</td><td>20191228_1_1</td><td>1092.2959</td><td>37.66538</td><td>157.8365</td><td>12.42</td><td>0.3102564</td><td>0.8446694</td><td>1.059798</td><td>409.3103</td><td>⋯</td><td>4</td><td>4</td><td>0</td><td>0</td><td>d7d37555</td><td>1.6890900</td><td>0.16694461</td><td>1.543333</td><td>31.035986</td><td>positive</td></tr>\n",
       "\t<tr><td>2</td><td>20191228_3_1</td><td> 914.4452</td><td>27.71046</td><td>151.0088</td><td>19.32</td><td>0.3839286</td><td>0.8176530</td><td>1.078791</td><td>292.7273</td><td>⋯</td><td>4</td><td>4</td><td>0</td><td>0</td><td>64d9d925</td><td>1.6592267</td><td>0.24968525</td><td>1.630667</td><td>31.119627</td><td>negative</td></tr>\n",
       "\t<tr><td>3</td><td>20191229_1_1</td><td> 983.0911</td><td>30.72160</td><td>158.9987</td><td>17.48</td><td>0.3740079</td><td>0.8418685</td><td>1.066327</td><td>321.3750</td><td>⋯</td><td>4</td><td>4</td><td>0</td><td>0</td><td>24eaa106</td><td>1.5121567</td><td>0.29565509</td><td>2.401250</td><td>-1.569719</td><td>positive</td></tr>\n",
       "\t<tr><td>4</td><td>20191229_1_2</td><td> 783.0207</td><td>29.00077</td><td>158.9260</td><td>15.64</td><td>0.4102564</td><td>0.8367941</td><td>1.062716</td><td>301.6667</td><td>⋯</td><td>4</td><td>4</td><td>0</td><td>0</td><td>7f5eb7b3</td><td>1.5434014</td><td>0.27085507</td><td>2.516000</td><td>-1.579967</td><td>positive</td></tr>\n",
       "\t<tr><td>5</td><td>20191229_2_1</td><td> 856.9757</td><td>24.48502</td><td>135.1016</td><td>16.56</td><td>0.4674370</td><td>0.8163402</td><td>1.076709</td><td>248.8857</td><td>⋯</td><td>4</td><td>4</td><td>0</td><td>0</td><td>7989d4d3</td><td>1.6222846</td><td>0.23076611</td><td>2.403077</td><td>-1.581329</td><td>negative</td></tr>\n",
       "\t<tr><td>6</td><td>20191229_5_1</td><td>1520.9958</td><td>28.16659</td><td>148.1034</td><td>12.88</td><td>0.5611302</td><td>0.8194727</td><td>1.067594</td><td>300.5556</td><td>⋯</td><td>4</td><td>4</td><td>0</td><td>0</td><td>43d81272</td><td>0.7559009</td><td>0.03615268</td><td>2.651696</td><td>-1.580809</td><td>positive</td></tr>\n",
       "\t<tr><td>7</td><td>20191230_6_1</td><td> 930.2193</td><td>25.83943</td><td>159.0713</td><td>15.18</td><td>0.2167600</td><td>0.8369695</td><td>1.065436</td><td>279.8056</td><td>⋯</td><td>4</td><td>4</td><td>0</td><td>0</td><td>0976f281</td><td>0.0457600</td><td>0.01360675</td><td>2.483636</td><td>24.888861</td><td>positive</td></tr>\n",
       "\t<tr><td>8</td><td>20191226_1_1</td><td>1257.7242</td><td>31.44311</td><td>159.2892</td><td>18.86</td><td>0.4992481</td><td>0.8391814</td><td>1.061743</td><td>332.7000</td><td>⋯</td><td>4</td><td>4</td><td>0</td><td>0</td><td>9f030412</td><td>0.6848100</td><td>0.04089875</td><td>2.373333</td><td>31.410071</td><td>positive</td></tr>\n",
       "</tbody>\n",
       "</table>\n"
      ],
      "text/latex": [
       "A data.frame: 8 × 21\n",
       "\\begin{tabular}{lllllllllllllllllllll}\n",
       " X & image & Sum\\_Length & Avg\\_Branch\\_pathlength & Avg\\_Width & Avg\\_Depth & Avg\\_Partition\\_asymmetry & Avg\\_Contraction & Avg\\_Fractal\\_Dim & Avg\\_Fragmentation & ⋯ & nb\\_roots & hgst\\_branch & nb\\_spines & density\\_spines & cell & duration\\_mean & slope\\_mean & spike\\_width & temperature & kv11\\\\\n",
       " <int> & <chr> & <dbl> & <dbl> & <dbl> & <dbl> & <dbl> & <dbl> & <dbl> & <dbl> & ⋯ & <int> & <int> & <int> & <int> & <chr> & <dbl> & <dbl> & <dbl> & <dbl> & <chr>\\\\\n",
       "\\hline\n",
       "\t 1 & 20191228\\_1\\_1 & 1092.2959 & 37.66538 & 157.8365 & 12.42 & 0.3102564 & 0.8446694 & 1.059798 & 409.3103 & ⋯ & 4 & 4 & 0 & 0 & d7d37555 & 1.6890900 & 0.16694461 & 1.543333 & 31.035986 & positive\\\\\n",
       "\t 2 & 20191228\\_3\\_1 &  914.4452 & 27.71046 & 151.0088 & 19.32 & 0.3839286 & 0.8176530 & 1.078791 & 292.7273 & ⋯ & 4 & 4 & 0 & 0 & 64d9d925 & 1.6592267 & 0.24968525 & 1.630667 & 31.119627 & negative\\\\\n",
       "\t 3 & 20191229\\_1\\_1 &  983.0911 & 30.72160 & 158.9987 & 17.48 & 0.3740079 & 0.8418685 & 1.066327 & 321.3750 & ⋯ & 4 & 4 & 0 & 0 & 24eaa106 & 1.5121567 & 0.29565509 & 2.401250 & -1.569719 & positive\\\\\n",
       "\t 4 & 20191229\\_1\\_2 &  783.0207 & 29.00077 & 158.9260 & 15.64 & 0.4102564 & 0.8367941 & 1.062716 & 301.6667 & ⋯ & 4 & 4 & 0 & 0 & 7f5eb7b3 & 1.5434014 & 0.27085507 & 2.516000 & -1.579967 & positive\\\\\n",
       "\t 5 & 20191229\\_2\\_1 &  856.9757 & 24.48502 & 135.1016 & 16.56 & 0.4674370 & 0.8163402 & 1.076709 & 248.8857 & ⋯ & 4 & 4 & 0 & 0 & 7989d4d3 & 1.6222846 & 0.23076611 & 2.403077 & -1.581329 & negative\\\\\n",
       "\t 6 & 20191229\\_5\\_1 & 1520.9958 & 28.16659 & 148.1034 & 12.88 & 0.5611302 & 0.8194727 & 1.067594 & 300.5556 & ⋯ & 4 & 4 & 0 & 0 & 43d81272 & 0.7559009 & 0.03615268 & 2.651696 & -1.580809 & positive\\\\\n",
       "\t 7 & 20191230\\_6\\_1 &  930.2193 & 25.83943 & 159.0713 & 15.18 & 0.2167600 & 0.8369695 & 1.065436 & 279.8056 & ⋯ & 4 & 4 & 0 & 0 & 0976f281 & 0.0457600 & 0.01360675 & 2.483636 & 24.888861 & positive\\\\\n",
       "\t 8 & 20191226\\_1\\_1 & 1257.7242 & 31.44311 & 159.2892 & 18.86 & 0.4992481 & 0.8391814 & 1.061743 & 332.7000 & ⋯ & 4 & 4 & 0 & 0 & 9f030412 & 0.6848100 & 0.04089875 & 2.373333 & 31.410071 & positive\\\\\n",
       "\\end{tabular}\n"
      ],
      "text/markdown": [
       "\n",
       "A data.frame: 8 × 21\n",
       "\n",
       "| X &lt;int&gt; | image &lt;chr&gt; | Sum_Length &lt;dbl&gt; | Avg_Branch_pathlength &lt;dbl&gt; | Avg_Width &lt;dbl&gt; | Avg_Depth &lt;dbl&gt; | Avg_Partition_asymmetry &lt;dbl&gt; | Avg_Contraction &lt;dbl&gt; | Avg_Fractal_Dim &lt;dbl&gt; | Avg_Fragmentation &lt;dbl&gt; | ⋯ ⋯ | nb_roots &lt;int&gt; | hgst_branch &lt;int&gt; | nb_spines &lt;int&gt; | density_spines &lt;int&gt; | cell &lt;chr&gt; | duration_mean &lt;dbl&gt; | slope_mean &lt;dbl&gt; | spike_width &lt;dbl&gt; | temperature &lt;dbl&gt; | kv11 &lt;chr&gt; |\n",
       "|---|---|---|---|---|---|---|---|---|---|---|---|---|---|---|---|---|---|---|---|---|\n",
       "| 1 | 20191228_1_1 | 1092.2959 | 37.66538 | 157.8365 | 12.42 | 0.3102564 | 0.8446694 | 1.059798 | 409.3103 | ⋯ | 4 | 4 | 0 | 0 | d7d37555 | 1.6890900 | 0.16694461 | 1.543333 | 31.035986 | positive |\n",
       "| 2 | 20191228_3_1 |  914.4452 | 27.71046 | 151.0088 | 19.32 | 0.3839286 | 0.8176530 | 1.078791 | 292.7273 | ⋯ | 4 | 4 | 0 | 0 | 64d9d925 | 1.6592267 | 0.24968525 | 1.630667 | 31.119627 | negative |\n",
       "| 3 | 20191229_1_1 |  983.0911 | 30.72160 | 158.9987 | 17.48 | 0.3740079 | 0.8418685 | 1.066327 | 321.3750 | ⋯ | 4 | 4 | 0 | 0 | 24eaa106 | 1.5121567 | 0.29565509 | 2.401250 | -1.569719 | positive |\n",
       "| 4 | 20191229_1_2 |  783.0207 | 29.00077 | 158.9260 | 15.64 | 0.4102564 | 0.8367941 | 1.062716 | 301.6667 | ⋯ | 4 | 4 | 0 | 0 | 7f5eb7b3 | 1.5434014 | 0.27085507 | 2.516000 | -1.579967 | positive |\n",
       "| 5 | 20191229_2_1 |  856.9757 | 24.48502 | 135.1016 | 16.56 | 0.4674370 | 0.8163402 | 1.076709 | 248.8857 | ⋯ | 4 | 4 | 0 | 0 | 7989d4d3 | 1.6222846 | 0.23076611 | 2.403077 | -1.581329 | negative |\n",
       "| 6 | 20191229_5_1 | 1520.9958 | 28.16659 | 148.1034 | 12.88 | 0.5611302 | 0.8194727 | 1.067594 | 300.5556 | ⋯ | 4 | 4 | 0 | 0 | 43d81272 | 0.7559009 | 0.03615268 | 2.651696 | -1.580809 | positive |\n",
       "| 7 | 20191230_6_1 |  930.2193 | 25.83943 | 159.0713 | 15.18 | 0.2167600 | 0.8369695 | 1.065436 | 279.8056 | ⋯ | 4 | 4 | 0 | 0 | 0976f281 | 0.0457600 | 0.01360675 | 2.483636 | 24.888861 | positive |\n",
       "| 8 | 20191226_1_1 | 1257.7242 | 31.44311 | 159.2892 | 18.86 | 0.4992481 | 0.8391814 | 1.061743 | 332.7000 | ⋯ | 4 | 4 | 0 | 0 | 9f030412 | 0.6848100 | 0.04089875 | 2.373333 | 31.410071 | positive |\n",
       "\n"
      ],
      "text/plain": [
       "  X image        Sum_Length Avg_Branch_pathlength Avg_Width Avg_Depth\n",
       "1 1 20191228_1_1 1092.2959  37.66538              157.8365  12.42    \n",
       "2 2 20191228_3_1  914.4452  27.71046              151.0088  19.32    \n",
       "3 3 20191229_1_1  983.0911  30.72160              158.9987  17.48    \n",
       "4 4 20191229_1_2  783.0207  29.00077              158.9260  15.64    \n",
       "5 5 20191229_2_1  856.9757  24.48502              135.1016  16.56    \n",
       "6 6 20191229_5_1 1520.9958  28.16659              148.1034  12.88    \n",
       "7 7 20191230_6_1  930.2193  25.83943              159.0713  15.18    \n",
       "8 8 20191226_1_1 1257.7242  31.44311              159.2892  18.86    \n",
       "  Avg_Partition_asymmetry Avg_Contraction Avg_Fractal_Dim Avg_Fragmentation ⋯\n",
       "1 0.3102564               0.8446694       1.059798        409.3103          ⋯\n",
       "2 0.3839286               0.8176530       1.078791        292.7273          ⋯\n",
       "3 0.3740079               0.8418685       1.066327        321.3750          ⋯\n",
       "4 0.4102564               0.8367941       1.062716        301.6667          ⋯\n",
       "5 0.4674370               0.8163402       1.076709        248.8857          ⋯\n",
       "6 0.5611302               0.8194727       1.067594        300.5556          ⋯\n",
       "7 0.2167600               0.8369695       1.065436        279.8056          ⋯\n",
       "8 0.4992481               0.8391814       1.061743        332.7000          ⋯\n",
       "  nb_roots hgst_branch nb_spines density_spines cell     duration_mean\n",
       "1 4        4           0         0              d7d37555 1.6890900    \n",
       "2 4        4           0         0              64d9d925 1.6592267    \n",
       "3 4        4           0         0              24eaa106 1.5121567    \n",
       "4 4        4           0         0              7f5eb7b3 1.5434014    \n",
       "5 4        4           0         0              7989d4d3 1.6222846    \n",
       "6 4        4           0         0              43d81272 0.7559009    \n",
       "7 4        4           0         0              0976f281 0.0457600    \n",
       "8 4        4           0         0              9f030412 0.6848100    \n",
       "  slope_mean spike_width temperature kv11    \n",
       "1 0.16694461 1.543333    31.035986   positive\n",
       "2 0.24968525 1.630667    31.119627   negative\n",
       "3 0.29565509 2.401250    -1.569719   positive\n",
       "4 0.27085507 2.516000    -1.579967   positive\n",
       "5 0.23076611 2.403077    -1.581329   negative\n",
       "6 0.03615268 2.651696    -1.580809   positive\n",
       "7 0.01360675 2.483636    24.888861   positive\n",
       "8 0.04089875 2.373333    31.410071   positive"
      ]
     },
     "metadata": {},
     "output_type": "display_data"
    }
   ],
   "source": [
    "merge_dataset = read.csv(\"../output/merge_dataset.csv\")\n",
    "merge_dataset"
   ]
  },
  {
   "cell_type": "code",
   "execution_count": 15,
   "id": "12650986-08dd-4346-85cb-359b60e30437",
   "metadata": {},
   "outputs": [],
   "source": [
    "# Select relevant data and export as csv\n",
    "data = merge_dataset %>% select(-c(X, image, cell, temperature, nb_spines, density_spines, Avg_Bif_ampl_remote, kv11, nb_roots, hgst_branch))\n",
    "write.csv(data, \"../build/merge_data.csv\")"
   ]
  },
  {
   "cell_type": "code",
   "execution_count": 16,
   "id": "f72628c1-0a0b-4742-abe1-09a8e0cb3137",
   "metadata": {},
   "outputs": [
    {
     "data": {
      "text/html": [
       "<table class=\"dataframe\">\n",
       "<caption>A data.frame: 8 × 11</caption>\n",
       "<thead>\n",
       "\t<tr><th scope=col>Sum_Length</th><th scope=col>Avg_Branch_pathlength</th><th scope=col>Avg_Width</th><th scope=col>Avg_Depth</th><th scope=col>Avg_Partition_asymmetry</th><th scope=col>Avg_Contraction</th><th scope=col>Avg_Fractal_Dim</th><th scope=col>Avg_Fragmentation</th><th scope=col>duration_mean</th><th scope=col>slope_mean</th><th scope=col>spike_width</th></tr>\n",
       "\t<tr><th scope=col>&lt;dbl&gt;</th><th scope=col>&lt;dbl&gt;</th><th scope=col>&lt;dbl&gt;</th><th scope=col>&lt;dbl&gt;</th><th scope=col>&lt;dbl&gt;</th><th scope=col>&lt;dbl&gt;</th><th scope=col>&lt;dbl&gt;</th><th scope=col>&lt;dbl&gt;</th><th scope=col>&lt;dbl&gt;</th><th scope=col>&lt;dbl&gt;</th><th scope=col>&lt;dbl&gt;</th></tr>\n",
       "</thead>\n",
       "<tbody>\n",
       "\t<tr><td>1092.2959</td><td>37.66538</td><td>157.8365</td><td>12.42</td><td>0.3102564</td><td>0.8446694</td><td>1.059798</td><td>409.3103</td><td>1.6890900</td><td>0.16694461</td><td>1.543333</td></tr>\n",
       "\t<tr><td> 914.4452</td><td>27.71046</td><td>151.0088</td><td>19.32</td><td>0.3839286</td><td>0.8176530</td><td>1.078791</td><td>292.7273</td><td>1.6592267</td><td>0.24968525</td><td>1.630667</td></tr>\n",
       "\t<tr><td> 983.0911</td><td>30.72160</td><td>158.9987</td><td>17.48</td><td>0.3740079</td><td>0.8418685</td><td>1.066327</td><td>321.3750</td><td>1.5121567</td><td>0.29565509</td><td>2.401250</td></tr>\n",
       "\t<tr><td> 783.0207</td><td>29.00077</td><td>158.9260</td><td>15.64</td><td>0.4102564</td><td>0.8367941</td><td>1.062716</td><td>301.6667</td><td>1.5434014</td><td>0.27085507</td><td>2.516000</td></tr>\n",
       "\t<tr><td> 856.9757</td><td>24.48502</td><td>135.1016</td><td>16.56</td><td>0.4674370</td><td>0.8163402</td><td>1.076709</td><td>248.8857</td><td>1.6222846</td><td>0.23076611</td><td>2.403077</td></tr>\n",
       "\t<tr><td>1520.9958</td><td>28.16659</td><td>148.1034</td><td>12.88</td><td>0.5611302</td><td>0.8194727</td><td>1.067594</td><td>300.5556</td><td>0.7559009</td><td>0.03615268</td><td>2.651696</td></tr>\n",
       "\t<tr><td> 930.2193</td><td>25.83943</td><td>159.0713</td><td>15.18</td><td>0.2167600</td><td>0.8369695</td><td>1.065436</td><td>279.8056</td><td>0.0457600</td><td>0.01360675</td><td>2.483636</td></tr>\n",
       "\t<tr><td>1257.7242</td><td>31.44311</td><td>159.2892</td><td>18.86</td><td>0.4992481</td><td>0.8391814</td><td>1.061743</td><td>332.7000</td><td>0.6848100</td><td>0.04089875</td><td>2.373333</td></tr>\n",
       "</tbody>\n",
       "</table>\n"
      ],
      "text/latex": [
       "A data.frame: 8 × 11\n",
       "\\begin{tabular}{lllllllllll}\n",
       " Sum\\_Length & Avg\\_Branch\\_pathlength & Avg\\_Width & Avg\\_Depth & Avg\\_Partition\\_asymmetry & Avg\\_Contraction & Avg\\_Fractal\\_Dim & Avg\\_Fragmentation & duration\\_mean & slope\\_mean & spike\\_width\\\\\n",
       " <dbl> & <dbl> & <dbl> & <dbl> & <dbl> & <dbl> & <dbl> & <dbl> & <dbl> & <dbl> & <dbl>\\\\\n",
       "\\hline\n",
       "\t 1092.2959 & 37.66538 & 157.8365 & 12.42 & 0.3102564 & 0.8446694 & 1.059798 & 409.3103 & 1.6890900 & 0.16694461 & 1.543333\\\\\n",
       "\t  914.4452 & 27.71046 & 151.0088 & 19.32 & 0.3839286 & 0.8176530 & 1.078791 & 292.7273 & 1.6592267 & 0.24968525 & 1.630667\\\\\n",
       "\t  983.0911 & 30.72160 & 158.9987 & 17.48 & 0.3740079 & 0.8418685 & 1.066327 & 321.3750 & 1.5121567 & 0.29565509 & 2.401250\\\\\n",
       "\t  783.0207 & 29.00077 & 158.9260 & 15.64 & 0.4102564 & 0.8367941 & 1.062716 & 301.6667 & 1.5434014 & 0.27085507 & 2.516000\\\\\n",
       "\t  856.9757 & 24.48502 & 135.1016 & 16.56 & 0.4674370 & 0.8163402 & 1.076709 & 248.8857 & 1.6222846 & 0.23076611 & 2.403077\\\\\n",
       "\t 1520.9958 & 28.16659 & 148.1034 & 12.88 & 0.5611302 & 0.8194727 & 1.067594 & 300.5556 & 0.7559009 & 0.03615268 & 2.651696\\\\\n",
       "\t  930.2193 & 25.83943 & 159.0713 & 15.18 & 0.2167600 & 0.8369695 & 1.065436 & 279.8056 & 0.0457600 & 0.01360675 & 2.483636\\\\\n",
       "\t 1257.7242 & 31.44311 & 159.2892 & 18.86 & 0.4992481 & 0.8391814 & 1.061743 & 332.7000 & 0.6848100 & 0.04089875 & 2.373333\\\\\n",
       "\\end{tabular}\n"
      ],
      "text/markdown": [
       "\n",
       "A data.frame: 8 × 11\n",
       "\n",
       "| Sum_Length &lt;dbl&gt; | Avg_Branch_pathlength &lt;dbl&gt; | Avg_Width &lt;dbl&gt; | Avg_Depth &lt;dbl&gt; | Avg_Partition_asymmetry &lt;dbl&gt; | Avg_Contraction &lt;dbl&gt; | Avg_Fractal_Dim &lt;dbl&gt; | Avg_Fragmentation &lt;dbl&gt; | duration_mean &lt;dbl&gt; | slope_mean &lt;dbl&gt; | spike_width &lt;dbl&gt; |\n",
       "|---|---|---|---|---|---|---|---|---|---|---|\n",
       "| 1092.2959 | 37.66538 | 157.8365 | 12.42 | 0.3102564 | 0.8446694 | 1.059798 | 409.3103 | 1.6890900 | 0.16694461 | 1.543333 |\n",
       "|  914.4452 | 27.71046 | 151.0088 | 19.32 | 0.3839286 | 0.8176530 | 1.078791 | 292.7273 | 1.6592267 | 0.24968525 | 1.630667 |\n",
       "|  983.0911 | 30.72160 | 158.9987 | 17.48 | 0.3740079 | 0.8418685 | 1.066327 | 321.3750 | 1.5121567 | 0.29565509 | 2.401250 |\n",
       "|  783.0207 | 29.00077 | 158.9260 | 15.64 | 0.4102564 | 0.8367941 | 1.062716 | 301.6667 | 1.5434014 | 0.27085507 | 2.516000 |\n",
       "|  856.9757 | 24.48502 | 135.1016 | 16.56 | 0.4674370 | 0.8163402 | 1.076709 | 248.8857 | 1.6222846 | 0.23076611 | 2.403077 |\n",
       "| 1520.9958 | 28.16659 | 148.1034 | 12.88 | 0.5611302 | 0.8194727 | 1.067594 | 300.5556 | 0.7559009 | 0.03615268 | 2.651696 |\n",
       "|  930.2193 | 25.83943 | 159.0713 | 15.18 | 0.2167600 | 0.8369695 | 1.065436 | 279.8056 | 0.0457600 | 0.01360675 | 2.483636 |\n",
       "| 1257.7242 | 31.44311 | 159.2892 | 18.86 | 0.4992481 | 0.8391814 | 1.061743 | 332.7000 | 0.6848100 | 0.04089875 | 2.373333 |\n",
       "\n"
      ],
      "text/plain": [
       "  Sum_Length Avg_Branch_pathlength Avg_Width Avg_Depth Avg_Partition_asymmetry\n",
       "1 1092.2959  37.66538              157.8365  12.42     0.3102564              \n",
       "2  914.4452  27.71046              151.0088  19.32     0.3839286              \n",
       "3  983.0911  30.72160              158.9987  17.48     0.3740079              \n",
       "4  783.0207  29.00077              158.9260  15.64     0.4102564              \n",
       "5  856.9757  24.48502              135.1016  16.56     0.4674370              \n",
       "6 1520.9958  28.16659              148.1034  12.88     0.5611302              \n",
       "7  930.2193  25.83943              159.0713  15.18     0.2167600              \n",
       "8 1257.7242  31.44311              159.2892  18.86     0.4992481              \n",
       "  Avg_Contraction Avg_Fractal_Dim Avg_Fragmentation duration_mean slope_mean\n",
       "1 0.8446694       1.059798        409.3103          1.6890900     0.16694461\n",
       "2 0.8176530       1.078791        292.7273          1.6592267     0.24968525\n",
       "3 0.8418685       1.066327        321.3750          1.5121567     0.29565509\n",
       "4 0.8367941       1.062716        301.6667          1.5434014     0.27085507\n",
       "5 0.8163402       1.076709        248.8857          1.6222846     0.23076611\n",
       "6 0.8194727       1.067594        300.5556          0.7559009     0.03615268\n",
       "7 0.8369695       1.065436        279.8056          0.0457600     0.01360675\n",
       "8 0.8391814       1.061743        332.7000          0.6848100     0.04089875\n",
       "  spike_width\n",
       "1 1.543333   \n",
       "2 1.630667   \n",
       "3 2.401250   \n",
       "4 2.516000   \n",
       "5 2.403077   \n",
       "6 2.651696   \n",
       "7 2.483636   \n",
       "8 2.373333   "
      ]
     },
     "metadata": {},
     "output_type": "display_data"
    }
   ],
   "source": [
    "data"
   ]
  },
  {
   "cell_type": "code",
   "execution_count": 11,
   "id": "60930a00-7b6f-4143-b477-57a75472df31",
   "metadata": {},
   "outputs": [],
   "source": [
    "# Select the column corresponding to labels and export\n",
    "labels = merge_dataset %>% select(c(kv11))\n",
    "write.csv(labels, \"../build/merge_labels.csv\")"
   ]
  },
  {
   "cell_type": "code",
   "execution_count": 12,
   "id": "6215fae4-dbee-488f-8e90-15914ab0f800",
   "metadata": {},
   "outputs": [
    {
     "data": {
      "text/html": [
       "<table class=\"dataframe\">\n",
       "<caption>A data.frame: 8 × 1</caption>\n",
       "<thead>\n",
       "\t<tr><th scope=col>kv11</th></tr>\n",
       "\t<tr><th scope=col>&lt;chr&gt;</th></tr>\n",
       "</thead>\n",
       "<tbody>\n",
       "\t<tr><td>positive</td></tr>\n",
       "\t<tr><td>negative</td></tr>\n",
       "\t<tr><td>positive</td></tr>\n",
       "\t<tr><td>positive</td></tr>\n",
       "\t<tr><td>negative</td></tr>\n",
       "\t<tr><td>positive</td></tr>\n",
       "\t<tr><td>positive</td></tr>\n",
       "\t<tr><td>positive</td></tr>\n",
       "</tbody>\n",
       "</table>\n"
      ],
      "text/latex": [
       "A data.frame: 8 × 1\n",
       "\\begin{tabular}{l}\n",
       " kv11\\\\\n",
       " <chr>\\\\\n",
       "\\hline\n",
       "\t positive\\\\\n",
       "\t negative\\\\\n",
       "\t positive\\\\\n",
       "\t positive\\\\\n",
       "\t negative\\\\\n",
       "\t positive\\\\\n",
       "\t positive\\\\\n",
       "\t positive\\\\\n",
       "\\end{tabular}\n"
      ],
      "text/markdown": [
       "\n",
       "A data.frame: 8 × 1\n",
       "\n",
       "| kv11 &lt;chr&gt; |\n",
       "|---|\n",
       "| positive |\n",
       "| negative |\n",
       "| positive |\n",
       "| positive |\n",
       "| negative |\n",
       "| positive |\n",
       "| positive |\n",
       "| positive |\n",
       "\n"
      ],
      "text/plain": [
       "  kv11    \n",
       "1 positive\n",
       "2 negative\n",
       "3 positive\n",
       "4 positive\n",
       "5 negative\n",
       "6 positive\n",
       "7 positive\n",
       "8 positive"
      ]
     },
     "metadata": {},
     "output_type": "display_data"
    }
   ],
   "source": [
    "labels"
   ]
  },
  {
   "cell_type": "code",
   "execution_count": null,
   "id": "8f7e21d4-b559-47dc-8898-983f46fc9f16",
   "metadata": {},
   "outputs": [],
   "source": []
  },
  {
   "cell_type": "code",
   "execution_count": null,
   "id": "f211b534-4ba7-40e6-ad0a-18bb93508de3",
   "metadata": {},
   "outputs": [],
   "source": []
  }
 ],
 "metadata": {
  "kernelspec": {
   "display_name": "R",
   "language": "R",
   "name": "ir"
  },
  "language_info": {
   "codemirror_mode": "r",
   "file_extension": ".r",
   "mimetype": "text/x-r-source",
   "name": "R",
   "pygments_lexer": "r",
   "version": "4.4.2"
  }
 },
 "nbformat": 4,
 "nbformat_minor": 5
}
