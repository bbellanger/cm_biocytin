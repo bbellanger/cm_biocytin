{
 "cells": [
  {
   "cell_type": "code",
   "execution_count": 1,
   "id": "069b15b1-100b-4441-801b-fd2c7d98425e",
   "metadata": {},
   "outputs": [],
   "source": [
    "# This script is made to merge datasets \n",
    "# from electrophysiology and filling_extraction.py"
   ]
  },
  {
   "cell_type": "code",
   "execution_count": 2,
   "id": "7e495a24-504b-4b5a-bac8-54c74a85f2c8",
   "metadata": {},
   "outputs": [
    {
     "name": "stderr",
     "output_type": "stream",
     "text": [
      "── \u001b[1mAttaching core tidyverse packages\u001b[22m ────────────── tidyverse 2.0.0 ──\n",
      "\u001b[32m✔\u001b[39m \u001b[34mdplyr    \u001b[39m 1.1.2     \u001b[32m✔\u001b[39m \u001b[34mreadr    \u001b[39m 2.1.4\n",
      "\u001b[32m✔\u001b[39m \u001b[34mforcats  \u001b[39m 1.0.0     \u001b[32m✔\u001b[39m \u001b[34mstringr  \u001b[39m 1.5.0\n",
      "\u001b[32m✔\u001b[39m \u001b[34mggplot2  \u001b[39m 3.4.2     \u001b[32m✔\u001b[39m \u001b[34mtibble   \u001b[39m 3.2.1\n",
      "\u001b[32m✔\u001b[39m \u001b[34mlubridate\u001b[39m 1.9.3     \u001b[32m✔\u001b[39m \u001b[34mtidyr    \u001b[39m 1.3.0\n",
      "\u001b[32m✔\u001b[39m \u001b[34mpurrr    \u001b[39m 1.0.1     \n",
      "── \u001b[1mConflicts\u001b[22m ──────────────────────────────── tidyverse_conflicts() ──\n",
      "\u001b[31m✖\u001b[39m \u001b[34mdplyr\u001b[39m::\u001b[32mfilter()\u001b[39m masks \u001b[34mstats\u001b[39m::filter()\n",
      "\u001b[31m✖\u001b[39m \u001b[34mdplyr\u001b[39m::\u001b[32mlag()\u001b[39m    masks \u001b[34mstats\u001b[39m::lag()\n",
      "\u001b[36mℹ\u001b[39m Use the conflicted package (\u001b[3m\u001b[34m<http://conflicted.r-lib.org/>\u001b[39m\u001b[23m) to force all conflicts to become errors\n"
     ]
    }
   ],
   "source": [
    "library(\"tidyverse\")"
   ]
  },
  {
   "cell_type": "code",
   "execution_count": 3,
   "id": "006716dd-356a-4759-a50a-11ffc283bfd8",
   "metadata": {},
   "outputs": [],
   "source": [
    "# Import both datasets\n",
    "morpho_features = read.csv(\"../output/data.csv\")\n",
    "electro_features = read.csv(\"../input/cell_stats.csv\")"
   ]
  },
  {
   "cell_type": "code",
   "execution_count": 4,
   "id": "90f6ec35-a7f8-48cf-9441-32c7ef4a4635",
   "metadata": {},
   "outputs": [],
   "source": [
    "# Merge per 'image' and save in '/output'\n",
    "merge_dataset = dplyr::inner_join(morpho_features, electro_features, by=\"image\")\n",
    "# write.csv(merge_dataset, \"../output/merge_dataset.csv\")"
   ]
  },
  {
   "cell_type": "code",
   "execution_count": 5,
   "id": "651c26d0-e1f5-4930-a035-77d87644c900",
   "metadata": {},
   "outputs": [
    {
     "data": {
      "text/html": [
       "<table class=\"dataframe\">\n",
       "<caption>A data.frame: 8 × 20</caption>\n",
       "<thead>\n",
       "\t<tr><th scope=col>image</th><th scope=col>Sum_Length</th><th scope=col>Avg_Branch_pathlength</th><th scope=col>Avg_Width</th><th scope=col>Avg_Depth</th><th scope=col>Avg_Partition_asymmetry</th><th scope=col>Avg_Contraction</th><th scope=col>Avg_Fractal_Dim</th><th scope=col>Avg_Fragmentation</th><th scope=col>Avg_Bif_ampl_remote</th><th scope=col>nb_roots</th><th scope=col>hgst_branch</th><th scope=col>nb_spines</th><th scope=col>density_spines</th><th scope=col>cell</th><th scope=col>duration_mean</th><th scope=col>slope_mean</th><th scope=col>spike_width</th><th scope=col>temperature</th><th scope=col>kv11</th></tr>\n",
       "\t<tr><th scope=col>&lt;chr&gt;</th><th scope=col>&lt;dbl&gt;</th><th scope=col>&lt;dbl&gt;</th><th scope=col>&lt;dbl&gt;</th><th scope=col>&lt;dbl&gt;</th><th scope=col>&lt;dbl&gt;</th><th scope=col>&lt;dbl&gt;</th><th scope=col>&lt;dbl&gt;</th><th scope=col>&lt;dbl&gt;</th><th scope=col>&lt;dbl&gt;</th><th scope=col>&lt;int&gt;</th><th scope=col>&lt;int&gt;</th><th scope=col>&lt;int&gt;</th><th scope=col>&lt;dbl&gt;</th><th scope=col>&lt;chr&gt;</th><th scope=col>&lt;dbl&gt;</th><th scope=col>&lt;dbl&gt;</th><th scope=col>&lt;dbl&gt;</th><th scope=col>&lt;dbl&gt;</th><th scope=col>&lt;chr&gt;</th></tr>\n",
       "</thead>\n",
       "<tbody>\n",
       "\t<tr><td>20191228_1_1</td><td>1092.2959</td><td>37.66538</td><td>157.8365</td><td>12.42</td><td>0.3102564</td><td>0.8446694</td><td>1.059798</td><td>409.3103</td><td>77.81736</td><td>4</td><td>4</td><td>0</td><td>0</td><td>d7d37555</td><td>1.6890900</td><td>0.16694461</td><td>1.543333</td><td>31.035986</td><td>positive</td></tr>\n",
       "\t<tr><td>20191228_3_1</td><td> 914.4452</td><td>27.71046</td><td>151.0088</td><td>19.32</td><td>0.3839286</td><td>0.8176530</td><td>1.078791</td><td>292.7273</td><td>69.61636</td><td>4</td><td>4</td><td>0</td><td>0</td><td>64d9d925</td><td>1.6592267</td><td>0.24968525</td><td>1.630667</td><td>31.119627</td><td>negative</td></tr>\n",
       "\t<tr><td>20191229_1_1</td><td> 983.0911</td><td>30.72160</td><td>158.9987</td><td>17.48</td><td>0.3740079</td><td>0.8418685</td><td>1.066327</td><td>321.3750</td><td>69.73145</td><td>4</td><td>4</td><td>0</td><td>0</td><td>24eaa106</td><td>1.5121567</td><td>0.29565509</td><td>2.401250</td><td>-1.569719</td><td>positive</td></tr>\n",
       "\t<tr><td>20191229_1_2</td><td> 783.0207</td><td>29.00077</td><td>158.9260</td><td>15.64</td><td>0.4102564</td><td>0.8367941</td><td>1.062716</td><td>301.6667</td><td>63.81099</td><td>4</td><td>4</td><td>0</td><td>0</td><td>7f5eb7b3</td><td>1.5434014</td><td>0.27085507</td><td>2.516000</td><td>-1.579967</td><td>positive</td></tr>\n",
       "\t<tr><td>20191229_2_1</td><td> 856.9757</td><td>24.48502</td><td>135.1016</td><td>16.56</td><td>0.4674370</td><td>0.8163402</td><td>1.076709</td><td>248.8857</td><td>60.52379</td><td>4</td><td>4</td><td>0</td><td>0</td><td>7989d4d3</td><td>1.6222846</td><td>0.23076611</td><td>2.403077</td><td>-1.581329</td><td>negative</td></tr>\n",
       "\t<tr><td>20191229_5_1</td><td>1520.9958</td><td>28.16659</td><td>148.1034</td><td>12.88</td><td>0.5611302</td><td>0.8194727</td><td>1.067594</td><td>300.5556</td><td>      NA</td><td>4</td><td>4</td><td>0</td><td>0</td><td>43d81272</td><td>0.7559009</td><td>0.03615268</td><td>2.651696</td><td>-1.580809</td><td>positive</td></tr>\n",
       "\t<tr><td>20191230_6_1</td><td> 930.2193</td><td>25.83943</td><td>159.0713</td><td>15.18</td><td>0.2167600</td><td>0.8369695</td><td>1.065436</td><td>279.8056</td><td>60.10202</td><td>4</td><td>4</td><td>0</td><td>0</td><td>0976f281</td><td>0.0457600</td><td>0.01360675</td><td>2.483636</td><td>24.888861</td><td>positive</td></tr>\n",
       "\t<tr><td>20191226_1_1</td><td>1257.7242</td><td>31.44311</td><td>159.2892</td><td>18.86</td><td>0.4992481</td><td>0.8391814</td><td>1.061743</td><td>332.7000</td><td>73.00218</td><td>4</td><td>4</td><td>0</td><td>0</td><td>9f030412</td><td>0.6848100</td><td>0.04089875</td><td>2.373333</td><td>31.410071</td><td>positive</td></tr>\n",
       "</tbody>\n",
       "</table>\n"
      ],
      "text/latex": [
       "A data.frame: 8 × 20\n",
       "\\begin{tabular}{llllllllllllllllllll}\n",
       " image & Sum\\_Length & Avg\\_Branch\\_pathlength & Avg\\_Width & Avg\\_Depth & Avg\\_Partition\\_asymmetry & Avg\\_Contraction & Avg\\_Fractal\\_Dim & Avg\\_Fragmentation & Avg\\_Bif\\_ampl\\_remote & nb\\_roots & hgst\\_branch & nb\\_spines & density\\_spines & cell & duration\\_mean & slope\\_mean & spike\\_width & temperature & kv11\\\\\n",
       " <chr> & <dbl> & <dbl> & <dbl> & <dbl> & <dbl> & <dbl> & <dbl> & <dbl> & <dbl> & <int> & <int> & <int> & <dbl> & <chr> & <dbl> & <dbl> & <dbl> & <dbl> & <chr>\\\\\n",
       "\\hline\n",
       "\t 20191228\\_1\\_1 & 1092.2959 & 37.66538 & 157.8365 & 12.42 & 0.3102564 & 0.8446694 & 1.059798 & 409.3103 & 77.81736 & 4 & 4 & 0 & 0 & d7d37555 & 1.6890900 & 0.16694461 & 1.543333 & 31.035986 & positive\\\\\n",
       "\t 20191228\\_3\\_1 &  914.4452 & 27.71046 & 151.0088 & 19.32 & 0.3839286 & 0.8176530 & 1.078791 & 292.7273 & 69.61636 & 4 & 4 & 0 & 0 & 64d9d925 & 1.6592267 & 0.24968525 & 1.630667 & 31.119627 & negative\\\\\n",
       "\t 20191229\\_1\\_1 &  983.0911 & 30.72160 & 158.9987 & 17.48 & 0.3740079 & 0.8418685 & 1.066327 & 321.3750 & 69.73145 & 4 & 4 & 0 & 0 & 24eaa106 & 1.5121567 & 0.29565509 & 2.401250 & -1.569719 & positive\\\\\n",
       "\t 20191229\\_1\\_2 &  783.0207 & 29.00077 & 158.9260 & 15.64 & 0.4102564 & 0.8367941 & 1.062716 & 301.6667 & 63.81099 & 4 & 4 & 0 & 0 & 7f5eb7b3 & 1.5434014 & 0.27085507 & 2.516000 & -1.579967 & positive\\\\\n",
       "\t 20191229\\_2\\_1 &  856.9757 & 24.48502 & 135.1016 & 16.56 & 0.4674370 & 0.8163402 & 1.076709 & 248.8857 & 60.52379 & 4 & 4 & 0 & 0 & 7989d4d3 & 1.6222846 & 0.23076611 & 2.403077 & -1.581329 & negative\\\\\n",
       "\t 20191229\\_5\\_1 & 1520.9958 & 28.16659 & 148.1034 & 12.88 & 0.5611302 & 0.8194727 & 1.067594 & 300.5556 &       NA & 4 & 4 & 0 & 0 & 43d81272 & 0.7559009 & 0.03615268 & 2.651696 & -1.580809 & positive\\\\\n",
       "\t 20191230\\_6\\_1 &  930.2193 & 25.83943 & 159.0713 & 15.18 & 0.2167600 & 0.8369695 & 1.065436 & 279.8056 & 60.10202 & 4 & 4 & 0 & 0 & 0976f281 & 0.0457600 & 0.01360675 & 2.483636 & 24.888861 & positive\\\\\n",
       "\t 20191226\\_1\\_1 & 1257.7242 & 31.44311 & 159.2892 & 18.86 & 0.4992481 & 0.8391814 & 1.061743 & 332.7000 & 73.00218 & 4 & 4 & 0 & 0 & 9f030412 & 0.6848100 & 0.04089875 & 2.373333 & 31.410071 & positive\\\\\n",
       "\\end{tabular}\n"
      ],
      "text/markdown": [
       "\n",
       "A data.frame: 8 × 20\n",
       "\n",
       "| image &lt;chr&gt; | Sum_Length &lt;dbl&gt; | Avg_Branch_pathlength &lt;dbl&gt; | Avg_Width &lt;dbl&gt; | Avg_Depth &lt;dbl&gt; | Avg_Partition_asymmetry &lt;dbl&gt; | Avg_Contraction &lt;dbl&gt; | Avg_Fractal_Dim &lt;dbl&gt; | Avg_Fragmentation &lt;dbl&gt; | Avg_Bif_ampl_remote &lt;dbl&gt; | nb_roots &lt;int&gt; | hgst_branch &lt;int&gt; | nb_spines &lt;int&gt; | density_spines &lt;dbl&gt; | cell &lt;chr&gt; | duration_mean &lt;dbl&gt; | slope_mean &lt;dbl&gt; | spike_width &lt;dbl&gt; | temperature &lt;dbl&gt; | kv11 &lt;chr&gt; |\n",
       "|---|---|---|---|---|---|---|---|---|---|---|---|---|---|---|---|---|---|---|---|\n",
       "| 20191228_1_1 | 1092.2959 | 37.66538 | 157.8365 | 12.42 | 0.3102564 | 0.8446694 | 1.059798 | 409.3103 | 77.81736 | 4 | 4 | 0 | 0 | d7d37555 | 1.6890900 | 0.16694461 | 1.543333 | 31.035986 | positive |\n",
       "| 20191228_3_1 |  914.4452 | 27.71046 | 151.0088 | 19.32 | 0.3839286 | 0.8176530 | 1.078791 | 292.7273 | 69.61636 | 4 | 4 | 0 | 0 | 64d9d925 | 1.6592267 | 0.24968525 | 1.630667 | 31.119627 | negative |\n",
       "| 20191229_1_1 |  983.0911 | 30.72160 | 158.9987 | 17.48 | 0.3740079 | 0.8418685 | 1.066327 | 321.3750 | 69.73145 | 4 | 4 | 0 | 0 | 24eaa106 | 1.5121567 | 0.29565509 | 2.401250 | -1.569719 | positive |\n",
       "| 20191229_1_2 |  783.0207 | 29.00077 | 158.9260 | 15.64 | 0.4102564 | 0.8367941 | 1.062716 | 301.6667 | 63.81099 | 4 | 4 | 0 | 0 | 7f5eb7b3 | 1.5434014 | 0.27085507 | 2.516000 | -1.579967 | positive |\n",
       "| 20191229_2_1 |  856.9757 | 24.48502 | 135.1016 | 16.56 | 0.4674370 | 0.8163402 | 1.076709 | 248.8857 | 60.52379 | 4 | 4 | 0 | 0 | 7989d4d3 | 1.6222846 | 0.23076611 | 2.403077 | -1.581329 | negative |\n",
       "| 20191229_5_1 | 1520.9958 | 28.16659 | 148.1034 | 12.88 | 0.5611302 | 0.8194727 | 1.067594 | 300.5556 |       NA | 4 | 4 | 0 | 0 | 43d81272 | 0.7559009 | 0.03615268 | 2.651696 | -1.580809 | positive |\n",
       "| 20191230_6_1 |  930.2193 | 25.83943 | 159.0713 | 15.18 | 0.2167600 | 0.8369695 | 1.065436 | 279.8056 | 60.10202 | 4 | 4 | 0 | 0 | 0976f281 | 0.0457600 | 0.01360675 | 2.483636 | 24.888861 | positive |\n",
       "| 20191226_1_1 | 1257.7242 | 31.44311 | 159.2892 | 18.86 | 0.4992481 | 0.8391814 | 1.061743 | 332.7000 | 73.00218 | 4 | 4 | 0 | 0 | 9f030412 | 0.6848100 | 0.04089875 | 2.373333 | 31.410071 | positive |\n",
       "\n"
      ],
      "text/plain": [
       "  image        Sum_Length Avg_Branch_pathlength Avg_Width Avg_Depth\n",
       "1 20191228_1_1 1092.2959  37.66538              157.8365  12.42    \n",
       "2 20191228_3_1  914.4452  27.71046              151.0088  19.32    \n",
       "3 20191229_1_1  983.0911  30.72160              158.9987  17.48    \n",
       "4 20191229_1_2  783.0207  29.00077              158.9260  15.64    \n",
       "5 20191229_2_1  856.9757  24.48502              135.1016  16.56    \n",
       "6 20191229_5_1 1520.9958  28.16659              148.1034  12.88    \n",
       "7 20191230_6_1  930.2193  25.83943              159.0713  15.18    \n",
       "8 20191226_1_1 1257.7242  31.44311              159.2892  18.86    \n",
       "  Avg_Partition_asymmetry Avg_Contraction Avg_Fractal_Dim Avg_Fragmentation\n",
       "1 0.3102564               0.8446694       1.059798        409.3103         \n",
       "2 0.3839286               0.8176530       1.078791        292.7273         \n",
       "3 0.3740079               0.8418685       1.066327        321.3750         \n",
       "4 0.4102564               0.8367941       1.062716        301.6667         \n",
       "5 0.4674370               0.8163402       1.076709        248.8857         \n",
       "6 0.5611302               0.8194727       1.067594        300.5556         \n",
       "7 0.2167600               0.8369695       1.065436        279.8056         \n",
       "8 0.4992481               0.8391814       1.061743        332.7000         \n",
       "  Avg_Bif_ampl_remote nb_roots hgst_branch nb_spines density_spines cell    \n",
       "1 77.81736            4        4           0         0              d7d37555\n",
       "2 69.61636            4        4           0         0              64d9d925\n",
       "3 69.73145            4        4           0         0              24eaa106\n",
       "4 63.81099            4        4           0         0              7f5eb7b3\n",
       "5 60.52379            4        4           0         0              7989d4d3\n",
       "6       NA            4        4           0         0              43d81272\n",
       "7 60.10202            4        4           0         0              0976f281\n",
       "8 73.00218            4        4           0         0              9f030412\n",
       "  duration_mean slope_mean spike_width temperature kv11    \n",
       "1 1.6890900     0.16694461 1.543333    31.035986   positive\n",
       "2 1.6592267     0.24968525 1.630667    31.119627   negative\n",
       "3 1.5121567     0.29565509 2.401250    -1.569719   positive\n",
       "4 1.5434014     0.27085507 2.516000    -1.579967   positive\n",
       "5 1.6222846     0.23076611 2.403077    -1.581329   negative\n",
       "6 0.7559009     0.03615268 2.651696    -1.580809   positive\n",
       "7 0.0457600     0.01360675 2.483636    24.888861   positive\n",
       "8 0.6848100     0.04089875 2.373333    31.410071   positive"
      ]
     },
     "metadata": {},
     "output_type": "display_data"
    }
   ],
   "source": [
    "merge_dataset"
   ]
  },
  {
   "cell_type": "code",
   "execution_count": null,
   "id": "f47a56b3-efa2-4281-a362-c1d50cf86d9a",
   "metadata": {},
   "outputs": [],
   "source": []
  }
 ],
 "metadata": {
  "kernelspec": {
   "display_name": "R",
   "language": "R",
   "name": "ir"
  },
  "language_info": {
   "codemirror_mode": "r",
   "file_extension": ".r",
   "mimetype": "text/x-r-source",
   "name": "R",
   "pygments_lexer": "r",
   "version": "4.3.2"
  }
 },
 "nbformat": 4,
 "nbformat_minor": 5
}
